{
 "cells": [
  {
   "cell_type": "code",
   "execution_count": 4,
   "metadata": {},
   "outputs": [],
   "source": [
    "#Vibration in 1-D system\n",
    "import numpy as np\n",
    "import matplotlib.pyplot as plt"
   ]
  },
  {
   "cell_type": "code",
   "execution_count": 41,
   "metadata": {},
   "outputs": [
    {
     "name": "stdout",
     "output_type": "stream",
     "text": [
      "[[16. -1.  0. ...  0.  0.  0.]\n",
      " [-1. 16. -1. ...  0.  0.  0.]\n",
      " [ 0. -1. 16. ...  0.  0.  0.]\n",
      " ...\n",
      " [ 0.  0.  0. ... 16. -1.  0.]\n",
      " [ 0.  0.  0. ... -1. 16. -1.]\n",
      " [ 0.  0.  0. ...  0. -1. 16.]]\n"
     ]
    }
   ],
   "source": [
    "d=16\n",
    "k=1\n",
    "e=np.zeros((40,40))\n",
    "e[0,0] = k\n",
    "f= np.zeros((40,40))\n",
    "f[39,39]=k\n",
    "M=(d*np.identity(40)) + (-k*np.eye(40,k=-1))+(-k*np.eye(40,k=1))\n",
    "print(M)"
   ]
  },
  {
   "cell_type": "code",
   "execution_count": 42,
   "metadata": {
    "scrolled": true
   },
   "outputs": [
    {
     "name": "stdout",
     "output_type": "stream",
     "text": [
      "[[1.]\n",
      " [0.]\n",
      " [0.]\n",
      " [0.]\n",
      " [0.]\n",
      " [0.]\n",
      " [0.]\n",
      " [0.]\n",
      " [0.]\n",
      " [0.]\n",
      " [0.]\n",
      " [0.]\n",
      " [0.]\n",
      " [0.]\n",
      " [0.]\n",
      " [0.]\n",
      " [0.]\n",
      " [0.]\n",
      " [0.]\n",
      " [0.]\n",
      " [0.]\n",
      " [0.]\n",
      " [0.]\n",
      " [0.]\n",
      " [0.]\n",
      " [0.]\n",
      " [0.]\n",
      " [0.]\n",
      " [0.]\n",
      " [0.]\n",
      " [0.]\n",
      " [0.]\n",
      " [0.]\n",
      " [0.]\n",
      " [0.]\n",
      " [0.]\n",
      " [0.]\n",
      " [0.]\n",
      " [0.]\n",
      " [0.]]\n"
     ]
    }
   ],
   "source": [
    "c=1\n",
    "b=np.zeros((40,1))\n",
    "b[0,0]=c\n",
    "print(b)"
   ]
  },
  {
   "cell_type": "code",
   "execution_count": 44,
   "metadata": {
    "scrolled": true
   },
   "outputs": [
    {
     "name": "stdout",
     "output_type": "stream",
     "text": [
      "[[6.27460668e-02]\n",
      " [3.93706890e-03]\n",
      " [2.47035588e-04]\n",
      " [1.55005115e-05]\n",
      " [9.72596131e-07]\n",
      " [6.10265818e-08]\n",
      " [3.82917798e-09]\n",
      " [2.40265857e-10]\n",
      " [1.50757375e-11]\n",
      " [9.45943235e-13]\n",
      " [5.93542174e-14]\n",
      " [3.72424369e-15]\n",
      " [2.33681643e-16]\n",
      " [1.46626040e-17]\n",
      " [9.20020731e-19]\n",
      " [5.77276822e-20]\n",
      " [3.62218501e-21]\n",
      " [2.27277862e-22]\n",
      " [1.42607919e-23]\n",
      " [8.94808604e-25]\n",
      " [5.61457204e-26]\n",
      " [3.52292312e-27]\n",
      " [2.21049570e-28]\n",
      " [1.38699911e-29]\n",
      " [8.70287386e-31]\n",
      " [5.46071105e-32]\n",
      " [3.42638140e-33]\n",
      " [2.14991956e-34]\n",
      " [1.34898997e-35]\n",
      " [8.46438145e-37]\n",
      " [5.31106644e-38]\n",
      " [3.33248530e-39]\n",
      " [2.09100345e-40]\n",
      " [1.31202242e-41]\n",
      " [8.23242465e-43]\n",
      " [5.16552267e-44]\n",
      " [3.24116231e-45]\n",
      " [2.03370174e-46]\n",
      " [1.27604815e-47]\n",
      " [7.97530095e-49]]\n"
     ]
    }
   ],
   "source": [
    "a=np.linalg.solve(M,b)\n",
    "print(a)"
   ]
  },
  {
   "cell_type": "code",
   "execution_count": 45,
   "metadata": {},
   "outputs": [
    {
     "data": {
      "image/png": "[encoded data removed]",
      "text/plain": [
       "<Figure size 432x288 with 1 Axes>"
      ]
     },
     "metadata": {
      "needs_background": "light"
     },
     "output_type": "display_data"
    }
   ],
   "source": [
    "xdata=np.arange(0,40,1);\n",
    "plt.xlabel('i(1~N)'); plt.ylabel('ai')\n",
    "plt.plot(xdata,a,'o');\n",
    "plt.plot(xdata,a,'-');"
   ]
  },
  {
   "cell_type": "code",
   "execution_count": 46,
   "metadata": {},
   "outputs": [
    {
     "name": "stdout",
     "output_type": "stream",
     "text": [
      "[[50. -1.  0. ...  0.  0.  0.]\n",
      " [-1. 50. -1. ...  0.  0.  0.]\n",
      " [ 0. -1. 50. ...  0.  0.  0.]\n",
      " ...\n",
      " [ 0.  0.  0. ... 50. -1.  0.]\n",
      " [ 0.  0.  0. ... -1. 50. -1.]\n",
      " [ 0.  0.  0. ...  0. -1. 50.]]\n"
     ]
    }
   ],
   "source": [
    "d=50\n",
    "k=1\n",
    "e=np.zeros((40,40))\n",
    "e[0,0] = k\n",
    "f= np.zeros((40,40))\n",
    "f[39,39]=k\n",
    "M=(d*np.identity(40)) + (-k*np.eye(40,k=-1))+(-k*np.eye(40,k=1))\n",
    "print(M)"
   ]
  },
  {
   "cell_type": "code",
   "execution_count": 47,
   "metadata": {},
   "outputs": [
    {
     "name": "stdout",
     "output_type": "stream",
     "text": [
      "[[1.]\n",
      " [0.]\n",
      " [0.]\n",
      " [0.]\n",
      " [0.]\n",
      " [0.]\n",
      " [0.]\n",
      " [0.]\n",
      " [0.]\n",
      " [0.]\n",
      " [0.]\n",
      " [0.]\n",
      " [0.]\n",
      " [0.]\n",
      " [0.]\n",
      " [0.]\n",
      " [0.]\n",
      " [0.]\n",
      " [0.]\n",
      " [0.]\n",
      " [0.]\n",
      " [0.]\n",
      " [0.]\n",
      " [0.]\n",
      " [0.]\n",
      " [0.]\n",
      " [0.]\n",
      " [0.]\n",
      " [0.]\n",
      " [0.]\n",
      " [0.]\n",
      " [0.]\n",
      " [0.]\n",
      " [0.]\n",
      " [0.]\n",
      " [0.]\n",
      " [0.]\n",
      " [0.]\n",
      " [0.]\n",
      " [0.]]\n"
     ]
    }
   ],
   "source": [
    "c=1\n",
    "b=np.zeros((40,1))\n",
    "b[0,0]=c\n",
    "print(b)"
   ]
  },
  {
   "cell_type": "code",
   "execution_count": 48,
   "metadata": {},
   "outputs": [
    {
     "data": {
      "image/png": "[encoded data removed]",
      "text/plain": [
       "<Figure size 432x288 with 1 Axes>"
      ]
     },
     "metadata": {
      "needs_background": "light"
     },
     "output_type": "display_data"
    }
   ],
   "source": [
    "xdata=np.arange(0,40,1);\n",
    "plt.xlabel('i(1~N)'); plt.ylabel('ai')\n",
    "plt.plot(xdata,a,'o');\n",
    "plt.plot(xdata,a,'-');"
   ]
  },
  {
   "cell_type": "code",
   "execution_count": null,
   "metadata": {},
   "outputs": [],
   "source": [
    "#????rodjfuqso tq"
   ]
  }
 ],
 "metadata": {
  "kernelspec": {
   "display_name": "Python 3",
   "language": "python",
   "name": "python3"
  },
  "language_info": {
   "codemirror_mode": {
    "name": "ipython",
    "version": 3
   },
   "file_extension": ".py",
   "mimetype": "text/x-python",
   "name": "python",
   "nbconvert_exporter": "python",
   "pygments_lexer": "ipython3",
   "version": "3.8.5"
  }
 },
 "nbformat": 4,
 "nbformat_minor": 4
}
