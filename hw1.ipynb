{
 "cells": [
  {
   "cell_type": "code",
   "execution_count": 1,
   "metadata": {},
   "outputs": [
    {
     "name": "stdout",
     "output_type": "stream",
     "text": [
      "r:0.5\n",
      "a:0.5\n",
      "1\n",
      "0.125\n",
      "2\n",
      "0.0546875\n",
      "3\n",
      "0.025848388671875\n",
      "4\n",
      "0.012590124737471342\n",
      "5\n",
      "0.006215806748283127\n",
      "6\n",
      "0.0030885852473755623\n",
      "7\n",
      "0.0015395229442726282\n",
      "8\n",
      "0.0007685764066883431\n",
      "9\n",
      "0.00038399284849771257\n",
      "10\n",
      "0.0001919226989950076\n"
     ]
    }
   ],
   "source": [
    "r = float(input('r:'))\n",
    "a = float(input('a:'))\n",
    "for n in range(10):\n",
    "    n = n+1\n",
    "    print(n)\n",
    "    a = r*a*(1-a)\n",
    "    print(a)"
   ]
  },
  {
   "cell_type": "code",
   "execution_count": null,
   "metadata": {},
   "outputs": [],
   "source": []
  }
 ],
 "metadata": {
  "kernelspec": {
   "display_name": "Python 3",
   "language": "python",
   "name": "python3"
  },
  "language_info": {
   "codemirror_mode": {
    "name": "ipython",
    "version": 3
   },
   "file_extension": ".py",
   "mimetype": "text/x-python",
   "name": "python",
   "nbconvert_exporter": "python",
   "pygments_lexer": "ipython3",
   "version": "3.8.5"
  }
 },
 "nbformat": 4,
 "nbformat_minor": 4
}
